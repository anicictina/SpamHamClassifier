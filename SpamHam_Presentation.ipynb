{
 "cells": [
  {
   "cell_type": "markdown",
   "id": "087bede2",
   "metadata": {},
   "source": [
    "# 📧 Spam vs Ham — Presentation Notebook\n",
    "\n",
    "**Cilj:** Kratka, jasna i *demonstrativna* prezentacija projekta u **≤10 minuta**.  \n",
    "Notebook koristi već pripremljene Python fajlove iz projekta i pravi grafike/ispise koji su potrebni za odbranu."
   ]
  },
  {
   "cell_type": "markdown",
   "id": "3413efb1",
   "metadata": {},
   "source": [
    "## Agenda (10 min)\n",
    "1. **Skup podataka & pretprocesiranje** (1–2 min)  \n",
    "2. **Klasični modeli (BoW/TF‑IDF)** (3 min)  \n",
    "3. **Duboki model (DistilBERT)** (3 min)  \n",
    "4. **Outlier detection (robustnost)** (1 min)  \n",
    "5. **Uporedni rezultati i zaključak** (1 min)"
   ]
  },
  {
   "cell_type": "markdown",
   "id": "efb45b26",
   "metadata": {},
   "source": [
    "## 1) Uvoz biblioteka i putanja\n",
    "Kratan setup: koristimo postojeće module projekta (bez dupliranja koda u notebook-u)."
   ]
  },
  {
   "cell_type": "code",
   "execution_count": null,
   "id": "fe2c3a52",
   "metadata": {},
   "outputs": [],
   "source": [
    "from pathlib import Path\n",
    "import json, os, pandas as pd\n",
    "\n",
    "from src.datasets import load_spamassassin, load_enron, combine_datasets\n",
    "from src.preprocess import preprocess_series\n",
    "from src.classical_models import train_classical\n",
    "from src.deep_models import train_transformer\n",
    "from src.evaluate import compute_metrics\n",
    "from src.outlier import anomaly_report\n",
    "\n",
    "DATA_DIR = Path('data')\n",
    "OUT_DIR = Path('outputs')\n",
    "OUT_DIR.mkdir(parents=True, exist_ok=True)\n",
    "\n",
    "print('OK: imports, DATA_DIR =', DATA_DIR.resolve())"
   ]
  },
  {
   "cell_type": "markdown",
   "id": "21321df8",
   "metadata": {},
   "source": [
    "## 2) Skup podataka i pretprocesiranje (brzi pregled)\n",
    "Kratak pregled veličina skupova (bez čitanja velikih fajlova u memoriju).  \n",
    "Ako je *Enron* veliki, koristi se samo `ham_subset` folder."
   ]
  },
  {
   "cell_type": "code",
   "execution_count": null,
   "id": "06bd6263",
   "metadata": {},
   "outputs": [],
   "source": [
    "from collections import Counter\n",
    "import os\n",
    "\n",
    "def fast_count_spamassassin(root='data/spamassassin'):\n",
    "    spam = ham = 0\n",
    "    for dp,_,fns in os.walk(root):\n",
    "        dp_low = dp.lower()\n",
    "        if any(x in dp_low for x in ['spam', 'spam_2']):\n",
    "            spam += len(fns)\n",
    "        if any(x in dp_low for x in ['ham', 'easy_ham', 'hard_ham', 'legit']):\n",
    "            ham += len(fns)\n",
    "    return spam, ham\n",
    "\n",
    "sa_spam, sa_ham = fast_count_spamassassin()\n",
    "print(f'SpamAssassin → spam: {sa_spam:,} | ham: {sa_ham:,}')\n",
    "\n",
    "en_ham = 0\n",
    "for sub in ['data/enron/ham_subset', 'data/enron/ham']:\n",
    "    if os.path.isdir(sub):\n",
    "        for _,_,fns in os.walk(sub):\n",
    "            en_ham += len(fns)\n",
    "print(f'Enron → ham: {en_ham:,} (koristi se ham/ham_subset)')"
   ]
  },
  {
   "cell_type": "markdown",
   "id": "6f6f1364",
   "metadata": {},
   "source": [
    "### Pretprocesiranje (primer)\n",
    "Pokazujemo kako tekst prolazi kroz pipeline čišćenja (lowercase, uklanjanje znakova, lematizacija, `<url>/<email>/<number>` place-holderi)."
   ]
  },
  {
   "cell_type": "code",
   "execution_count": null,
   "id": "fe5434a3",
   "metadata": {},
   "outputs": [],
   "source": [
    "samples = pd.Series([\n",
    "    'WIN $$$ now!!! Click https://promo.example.com and claim your PRIZE!!!',\n",
    "    'Hi John, meeting moved to 10:30. Send docs to jane.doe@company.com'\n",
    "])\n",
    "preprocess_series(samples)"
   ]
  },
  {
   "cell_type": "markdown",
   "id": "52be4921",
   "metadata": {},
   "source": [
    "## 3) Klasični modeli (BoW / TF‑IDF)\n",
    "Kratko treniranje na **kombinovanom** skupu (SpamAssassin + Enron ham_subset).  \n",
    "Ako je potrebno uštedeti vreme, može se koristiti samo SpamAssassin."
   ]
  },
  {
   "cell_type": "code",
   "execution_count": null,
   "id": "ed462341",
   "metadata": {},
   "outputs": [],
   "source": [
    "# Učitaj kombinovani skup (spam iz SpamAssassin + ham iz Enrona)\n",
    "sa = load_spamassassin('data/spamassassin')\n",
    "en = load_enron('data/enron')\n",
    "df = combine_datasets([sa, en])\n",
    "print(df['label'].value_counts(), '\\nTotal:', len(df))\n",
    "\n",
    "# Treniraj klasične modele na TF-IDF (brže); snimi metrike\n",
    "report, best_model = train_classical(df['text'], df['label'], features='tfidf', outdir=str(OUT_DIR))\n",
    "with open(OUT_DIR / 'metrics_classical.json', 'w', encoding='utf-8') as f:\n",
    "    json.dump(report, f, indent=2, ensure_ascii=False)\n",
    "\n",
    "print('Best classical model:', report['best_model_name'], 'F1 =', report['best_f1'])"
   ]
  },
  {
   "cell_type": "markdown",
   "id": "9fc279f5",
   "metadata": {},
   "source": [
    "> **Napomena:** Confusion matrice i ROC krive za ove modele biće snimljene u `outputs/confusion_matrices/` i `outputs/roc_curves/`."
   ]
  },
  {
   "cell_type": "markdown",
   "id": "4e3050d1",
   "metadata": {},
   "source": [
    "## 4) Duboki model (DistilBERT) — fine-tuning\n",
    "Ukoliko vreme dozvoljava, može se pustiti kraći fine‑tuning (1–2 epohe).  \n",
    "Ako je već istreniran ranije, preskoči trening i samo učitaj metrike i prikaži grafikone."
   ]
  },
  {
   "cell_type": "code",
   "execution_count": null,
   "id": "456f0235",
   "metadata": {},
   "outputs": [],
   "source": [
    "RUN_TRAIN = False  # ← Postavi na True ako želiš da treniraš tokom prezentacije\n",
    "\n",
    "if RUN_TRAIN:\n",
    "    metrics, model_dir = train_transformer(df['text'], df['label'], model_name='distilbert-base-uncased', epochs=1, batch_size=8, outdir=str(OUT_DIR))\n",
    "else:\n",
    "    mt_path = OUT_DIR / 'metrics_transformer.json'\n",
    "    if mt_path.exists():\n",
    "        with open(mt_path, 'r', encoding='utf-8') as f:\n",
    "            metrics = json.load(f)\n",
    "    else:\n",
    "        metrics = {'eval_accuracy': None, 'eval_f1': None}\n",
    "metrics"
   ]
  },
  {
   "cell_type": "markdown",
   "id": "bc76e44f",
   "metadata": {},
   "source": [
    "> Za grafike transformera (ROC & Confusion) koristi skriptu:  \n",
    "```bash\n",
    "python scripts/eval_deep_plots.py\n",
    "```\n",
    "Snimaju se u `outputs/roc_curves/Transformer_roc.png` i `outputs/confusion_matrices/Transformer_confusion.png`."
   ]
  },
  {
   "cell_type": "markdown",
   "id": "6cd58750",
   "metadata": {},
   "source": [
    "## 5) Outlier detection (robustnost na nove spam obrasce)\n",
    "Koristimo **IsolationForest** nad TF‑IDF reprezentacijom da označimo potencijalno anomalne poruke (više = sumnjivije)."
   ]
  },
  {
   "cell_type": "code",
   "execution_count": null,
   "id": "ded1cdd8",
   "metadata": {},
   "outputs": [],
   "source": [
    "scores = anomaly_report(df['text'], df['label'], features='tfidf', contamination=0.05)\n",
    "out_path = OUT_DIR / 'outlier_scores.csv'\n",
    "pd.DataFrame({'text': df['text'], 'label': df['label'], 'anomaly_score': scores}).to_csv(out_path, index=False, encoding='utf-8')\n",
    "print('Saved:', out_path)"
   ]
  },
  {
   "cell_type": "markdown",
   "id": "be1c2a48",
   "metadata": {},
   "source": [
    "## 6) Uporedni rezultati i grafici\n",
    "Prikaz uporednih metrika (bar chart) i tabela; dopunjuje ROC krive i confusion matrice."
   ]
  },
  {
   "cell_type": "code",
   "execution_count": null,
   "id": "6f4798b3",
   "metadata": {},
   "outputs": [],
   "source": [
    "!python scripts/plot_summary.py\n",
    "\n",
    "from IPython.display import Image, display\n",
    "\n",
    "bar_img = OUT_DIR / 'models_summary_bars.png'\n",
    "if bar_img.exists():\n",
    "    display(Image(filename=str(bar_img)))\n",
    "\n",
    "for p in [\n",
    "    OUT_DIR / 'roc_curves' / 'LinearSVM_roc.png',\n",
    "    OUT_DIR / 'roc_curves' / 'LogReg_roc.png',\n",
    "    OUT_DIR / 'roc_curves' / 'NaiveBayes_roc.png',\n",
    "    OUT_DIR / 'roc_curves' / 'Transformer_roc.png',\n",
    "    OUT_DIR / 'confusion_matrices' / 'LinearSVM_confusion.png',\n",
    "    OUT_DIR / 'confusion_matrices' / 'LogReg_confusion.png',\n",
    "    OUT_DIR / 'confusion_matrices' / 'NaiveBayes_confusion.png',\n",
    "    OUT_DIR / 'confusion_matrices' / 'Transformer_confusion.png',\n",
    "]:\n",
    "    if p.exists():\n",
    "        display(Image(filename=str(p)))"
   ]
  },
  {
   "cell_type": "markdown",
   "id": "741ce79b",
   "metadata": {},
   "source": [
    "## 7) Zaključak\n",
    "- **Pretprocesiranje**: čišćenje, normalizacija specifičnih email tokena, lematizacija.  \n",
    "- **Modeli**: NB/LR/LinearSVM (klasični) i DistilBERT (duboki) — svi trenirani i evaluirani.  \n",
    "- **Metrike**: accuracy, precision, recall, F1, ROC-AUC; fokus na *spam* kao pozitivnu klasu.  \n",
    "- **Robustnost**: detekcija outliera (IsolationForest) za nove/neviđene spam obrasce.  \n",
    "- **Rezultat**: odabrati model sa najboljim **F1** i praktičnim performansama (u tvom slučaju, **LinearSVM** ili **Transformer**)."
   ]
  }
 ],
 "metadata": {},
 "nbformat": 4,
 "nbformat_minor": 5
}